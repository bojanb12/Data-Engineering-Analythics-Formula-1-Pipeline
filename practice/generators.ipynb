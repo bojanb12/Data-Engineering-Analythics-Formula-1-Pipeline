{
 "cells": [
  {
   "cell_type": "code",
   "execution_count": 1,
   "metadata": {},
   "outputs": [],
   "source": [
    "import memory_profiler as mem_profile\n",
    "from memory_profiler import memory_usage\n",
    "import random\n",
    "import time\n",
    "\n",
    "names = ['Marko', 'Stanko', 'Branko', 'Darko', 'Goran', 'David', 'Jelena', 'Ivana', 'Marija', 'Lara']\n",
    "\n",
    "majors = ['Matematika', 'Informatika', 'Pravo', 'Biohemija', 'Masinsvo', 'Knjizevnost']\n",
    "\n",
    "\n",
    "        \n",
    "\n"
   ]
  },
  {
   "cell_type": "code",
   "execution_count": 3,
   "metadata": {},
   "outputs": [
    {
     "name": "stdout",
     "output_type": "stream",
     "text": [
      "Memory (Before): [59.7421875]Mb\n",
      "Memory (After): [330.08203125]Mb\n",
      "Took 0.520 Seconds\n"
     ]
    }
   ],
   "source": [
    "print('Memory (Before): {}Mb'.format(mem_profile.memory_usage()))\n",
    "\n",
    "# standardni for koji pravi listu\n",
    "def people_list(num_people):\n",
    "    result = []\n",
    "    for i in range(num_people):\n",
    "        person = {\n",
    "            'id': i,\n",
    "            'name': random.choice(names),\n",
    "            'major': random.choice(majors)\n",
    "        }\n",
    "        result.append(person)\n",
    "    return result\n",
    "\n",
    "# ista funkcija, ali preko generatora\n",
    "def people_generator(num_people):\n",
    "    for i in range(num_people):\n",
    "        person = {\n",
    "            'id': i,\n",
    "            'name': random.choice(names),\n",
    "            'major': random.choice(majors)\n",
    "        }\n",
    "        yield person\n",
    "        \n",
    "        \n",
    "t1 = time.perf_counter()\n",
    "\n",
    "people = people_list(1000000)\n",
    "#people = people_generator(1000000)\n",
    "\n",
    "t2 = time.perf_counter()\n",
    "\n",
    "\n",
    "print('Memory (After): {}Mb'.format(mem_profile.memory_usage()))\n",
    "print('Took {:.3f} Seconds'.format(t2-t1))"
   ]
  }
 ],
 "metadata": {
  "kernelspec": {
   "display_name": "Python 3",
   "language": "python",
   "name": "python3"
  },
  "language_info": {
   "codemirror_mode": {
    "name": "ipython",
    "version": 3
   },
   "file_extension": ".py",
   "mimetype": "text/x-python",
   "name": "python",
   "nbconvert_exporter": "python",
   "pygments_lexer": "ipython3",
   "version": "3.10.12"
  }
 },
 "nbformat": 4,
 "nbformat_minor": 2
}
